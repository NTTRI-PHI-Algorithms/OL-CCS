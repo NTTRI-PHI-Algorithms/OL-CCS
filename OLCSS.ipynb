{
 "cells": [
  {
   "cell_type": "markdown",
   "id": "7ec29ddb",
   "metadata": {},
   "source": [
    "<h1> Open-Loop Coherent Compressed Sensor (OL-CCS) </h1>\n",
    "\n",
    "Code by: M. D. Sudeera H. Gunathilaka \n",
    "\n",
    "Github: https://github.com/SuhiG"
   ]
  },
  {
   "cell_type": "markdown",
   "id": "22425675",
   "metadata": {},
   "source": [
    "<h1> 1) Description </h1>"
   ]
  },
  {
   "cell_type": "markdown",
   "id": "9d7f0acc",
   "metadata": {},
   "source": [
    "<h1> Introduction & Model </h1>\n",
    "Compressed sensing (CS) is a method of reconstructing a high-dimensional signal or image based on highly downsampled measurements.\n",
    "\n",
    "The Coherent Compressed Sensor (CCS) is designed to solve the problem of $l_0$-Regularised Compressed Sensing, which is a combinatorial optimisation problem. The problem Hamiltonian can be stated as follows.\n",
    "\n",
    "$$ H = \\sum_{r<r'}^{N}\\sum_{k = 1}^{M} A_{r}^{k}A_{r'}^{k}R_{r}R_{r'}\\sigma_{r}\\sigma_{r'} - \\sum_{r=1}^{N}\\sum_{k =1}^{M} y^{k}A_{r}^{k}R_{r}\\sigma_{r} + {\\lambda} \\sum_{r = 1}^{N} \\sigma_r .$$\n",
    "\n",
    "The above equation shows an observed signal $y \\in \\mathbb{R}^M$ and an observation matrix $A \\in \\mathbb{R}^{M\\times N}$. The term $R \\in \\mathbb{R}^N$ and $\\sigma \\in \\left\\{{0,1}\\right\\}^N$ correspond to the source signal and support vector, respectively.\n",
    "In this case, the quadratic optimisation part of the problem (signal - $R_{r}$) is done by using the Classical Digital Processor (CDP) while the combinatorial optimisation part of the problem (support - $\\sigma_{r}$) is performed by the CIM in alternate steps.\n",
    "\n",
    "For the CIM, the injection and local fields can be specified as follows.\n",
    "\n",
    "$$    \\left(\\dfrac{dc_{r}}{dt}\\right)_{inj,r} = \\left(|h_r| - \\eta\\right). $$\n",
    "\n",
    "$$h_{r} = -{\\sum_{r' = 1 (\\neq r)}^{N}\\sum_{k = 1}^{M}} A_r^k A_{r'}^k R_{r'}H(c_{r'}) + \\sum_{k=1}^M A_{r}^k y^{k} . $$\n",
    "\n",
    "$H(c_r)$ is the binarised in-phase amplitude by the Heaviside step function. $\\eta$ is the threshold which is related to the $l_0$-regularisation parameter $\\lambda$ by $\\eta = \\sqrt{2\\lambda}$ according to the Maxwell rule.\n",
    "Open-Loop CCS is composed of the following stochastic differential equations.\n",
    "\n",
    "$$\n",
    "        \\frac{d}{dt}c_r = \\left[-1 + p - {\\left(c_r^2 + s_r^2\\right)} \\right]c_r + \\widetilde{K}\\left(\\dfrac{dc_{r}}{dt}\\right)_{inj,r} + {g^2}\\sqrt{\\left(c_r^2 + s_r^2\\right) + \\frac{1}{2}} W_{r,1},$$\n",
    "\n",
    "\n",
    "\n",
    "$$\\frac{d}{dt}s_r = \\left[-1 - p - {\\left(c_r^2 + s_r^2\\right)}\\right]s_r + {g^2}\\sqrt{\\left(c_r^2 + s_r^2\\right) + \\frac{1}{2}} W_{r,2} .\n",
    "$$\n",
    "\n",
    "Here, in-phase and quadrature-phase normalised amplitudes are represented as $c_r$ and $s_r$ respectively. $p$ is the normalised pump rate. $W_{r,1}$ and $W_{r,2}$ are independent real Gaussian noise processes. The term ${g^2}$ indicates the saturation parameter while $\\widetilde{K}$ indicates the normalised feedback strength. \n",
    "\n",
    "In the CDP, we solve the following system of equations using the Jacobi method.\n",
    "\n",
    "$$ R_{r}\\sum_{k = 1}^{M} \\left(A_{r}^{k}\\right)^2 = \\sigma_{r}\\mathbb{H}_{r}, $$\n",
    "\n",
    "\n",
    "$$ \\mathbb{H}_{r} = -\\sum_{r' = 1 (\\neq r)}^{N}\\sum_{k = 1}^{M} A_{r}^{k}A_{r'}^{k}R_{r'}\\sigma_{r'} + \\sum_{k =1}^{M} A_{r}^{k}y^{k} .$$\n"
   ]
  },
  {
   "cell_type": "markdown",
   "id": "758b4e20",
   "metadata": {},
   "source": [
    "<h1> Benchmark </h1>\n",
    "\n",
    "OL-CCS performance is evaluated for randomly generated CS problem instances and Magnetic Resonance Imaging (MRI) of a brain. The performance accuracy is evaluated by calculating the Root-Mean-Squared-Error (RMSE) as $$ \\sqrt{\\dfrac{1}{N} \\sum_{r=1}^N \\left(R_r\\sigma_r - x_r\\xi_r\\right)^2}, $$\n",
    "\n",
    "where $R_r$ and $\\sigma_r$ is the estimated signal and support from OL-CCS and $x_r$ and $\\xi_r$ is the correct signal and support for the CS problem instance. Furthermore, we compare the performance of OL-CCS on the MRI data simulations to that of the $l_1$-Regularised method called LASSO, which is considered as one of the popular $l_1$-Regularised methods."
   ]
  },
  {
   "cell_type": "markdown",
   "id": "b7c61302",
   "metadata": {},
   "source": [
    "<h1> Pseudo-code </h1>\n",
    "\n",
    "    FOR rep IN 0:reps\n",
    "        FOR t IN 0:tmax\n",
    "            Set h_i to J*(rCDP*sigCIM) + hz                      #Matrix-Vector multiplication\n",
    "            Set c to c + (-(1 - p + c**2 + s**2)*c + JJ * (abs(h_i) - eta) + g * sqrt(c**2 + s**2 + 0.5) * w1)*dt\n",
    "            Set s to s + (-(1 + p + c**2 + s**2)*s + g * sqrt(c**2 + s**2 + 0.5) * w2)*dt\n",
    "            Set sigCIM to ((c/abs(c))+1)/2\n",
    "        END FOR\n",
    "        FOR tt IN 0:ttmax\n",
    "            Set hCDP to J*(rCDP*sigCIM) + hz                     #Matrix-Vector multiplication\n",
    "            Set rCDP to rCDP + (-rCDP + hCDP)*dt1\n",
    "        END FOR\n",
    "    END FOR"
   ]
  },
  {
   "cell_type": "markdown",
   "id": "aa7db7d3",
   "metadata": {},
   "source": [
    "<h1>References </h1>\n",
    "\n",
    "[1]. T. Aonishi, K. Mimura, M. Okada, and Y. Yamamoto, “L0 regularization based compressed sensing with quantum–classical hybrid approach,” Quantum Science and Technology 7, 035013 (2022)\n",
    "\n",
    "[2]. M. D. S. H. Gunathilaka, S. Kako, Y. Inui, K. Mimura, M. Okada, Y. Yamamoto, and T. Aonishi, “Effective implementation of L0-regularised compressed sensing with chaotic-amplitude-controlled coherent ising machines,” Scientific Reports 13, 16140 (2023)."
   ]
  },
  {
   "cell_type": "markdown",
   "id": "75f14ad1",
   "metadata": {},
   "source": [
    "<h1> 2) OL-CCS on Random CS problem instances </h1>"
   ]
  },
  {
   "cell_type": "code",
   "execution_count": 1,
   "id": "108495d6",
   "metadata": {},
   "outputs": [],
   "source": [
    "import torch\n",
    "import time\n",
    "import numpy as np\n",
    "import matplotlib.pyplot as plt\n",
    "import math\n",
    "from statistics import mean\n",
    "from numpy import genfromtxt"
   ]
  },
  {
   "cell_type": "code",
   "execution_count": 2,
   "id": "b94117f7",
   "metadata": {},
   "outputs": [
    {
     "name": "stdout",
     "output_type": "stream",
     "text": [
      "Problem = 0 |  RMSE = 0.0004\n",
      "Problem = 1 |  RMSE = 0.0006\n",
      "Problem = 2 |  RMSE = 0.0005\n",
      "Problem = 3 |  RMSE = 0.0004\n",
      "Problem = 4 |  RMSE = 0.0006\n",
      "Problem = 5 |  RMSE = 0.0007\n",
      "Problem = 6 |  RMSE = 0.0006\n",
      "Problem = 7 |  RMSE = 0.0007\n",
      "Problem = 8 |  RMSE = 0.0002\n",
      "Problem = 9 |  RMSE = 0.0006\n",
      "261.84485912323 s\n",
      "==> N = 2000, M = 1200 | Problems = 10 |  average RMSE = 0.0005\n"
     ]
    }
   ],
   "source": [
    "N = 2000 # System size (N)\n",
    "M = 1200 # Compressed size (N*compression ratio - This case 2000*0.6=1200)\n",
    "K = 1\n",
    "sparseness = 0.2 # Ratio of non-zero elemnts in the initial vector\n",
    "probs = 10 # Number of problems\n",
    "rmseArr = []\n",
    "\n",
    "stt = time.time()\n",
    "for pp in range(probs):\n",
    "    \n",
    "    torch.manual_seed(pp)\n",
    "    AA = torch.normal(mean=0, std=1, size=(M,N), dtype=torch.float64) # Observation matix\n",
    "    AA = AA/math.sqrt(M)\n",
    "    signal = torch.normal(mean=0, std=1, size=(N,), dtype=torch.float64) # Signal (Continuous)\n",
    "    support = torch.ones(N, dtype=torch.float64) # Support (Binary)\n",
    "\n",
    "    # Creating a sparse Support according to the sparseness ratio\n",
    "    for i in range(N):\n",
    "        if (i <= (sparseness * N)):\n",
    "            support[i] = 1\n",
    "        else:\n",
    "            support[i] = 0\n",
    "\n",
    "    y = torch.matmul(AA, signal * support) # Observation signal\n",
    "    A_norm = torch.zeros(N, dtype=torch.float64)\n",
    "\n",
    "    # Norm of the observation matrix\n",
    "    for i in range(N):\n",
    "        A_norm[i] = 0\n",
    "        for j in range(M):\n",
    "            A_norm[i] += AA[j][i] * AA[j][i]\n",
    "        A_norm[i] = torch.sqrt(A_norm[i])\n",
    "\n",
    "    J = torch.zeros((N,N), dtype=torch.float64)\n",
    "    hz = torch.zeros(N, dtype=torch.float64)\n",
    "\n",
    "\n",
    "    J = torch.matmul((AA/A_norm).T, AA/A_norm) # Coupling matrix\n",
    "    J.fill_diagonal_(0)\n",
    "    J = -J\n",
    "    hz = torch.matmul((AA/A_norm).T, y) # Zeeman term\n",
    "\n",
    "    ## CIM\n",
    "\n",
    "    eta_int = 0.6 # Starting L0-Regularisation parameter\n",
    "    eta_end = 0.01 # Starting L0-Regularisation parameter\n",
    "    REP = 50 # Number of alternating minimisation processes\n",
    "    JJ = 0.25 # Feedback strength\n",
    "    Tmax = 5 # Max-time for CIM\n",
    "    dt = 0.1 # Time-step for CIM\n",
    "    dt1 = 0.1 # Time-step for CDP\n",
    "    RTmax = 10 # Max-time for CDP\n",
    "    g = 1e-7 # Saturation parameter \n",
    "    Pmax = 1.5 # Max Pump rate\n",
    "\n",
    "    timeStepArr = torch.arange(0, Tmax/0.1+1, 1)\n",
    "    pump = torch.zeros(len(timeStepArr))\n",
    "    p = torch.pow(timeStepArr * (0.1/Tmax),2)*Pmax # Pump rate schedulling\n",
    "\n",
    "    sigCIM = torch.zeros(N, dtype=torch.float64)\n",
    "    rCDP = torch.zeros(N, dtype=torch.float64)\n",
    "\n",
    "    for ll in range(REP+1):\n",
    "        eta = max(eta_int * (1 - (ll/REP)), eta_end) # L0-Regularisation parameter schedulling\n",
    "\n",
    "        sigCIM = torch.zeros(N, dtype=torch.float64)\n",
    "        c = torch.zeros(N, dtype=torch.float64)\n",
    "        s = torch.zeros(N, dtype=torch.float64)\n",
    "        dc = torch.zeros(N, dtype=torch.float64)\n",
    "        ds = torch.zeros(N, dtype=torch.float64)            \n",
    "\n",
    "        for l in range(len(timeStepArr)):\n",
    "\n",
    "            # Injection field Calculation\n",
    "            out = rCDP*sigCIM\n",
    "            Zeeman = hz\n",
    "            h_i = torch.matmul(J,out) + Zeeman\n",
    "\n",
    "            # OL-CCS SDEs \n",
    "            w1 = torch.normal(mean=0, std=1, size=(N,), dtype=torch.float64)\n",
    "            w2 = torch.normal(mean=0, std=1, size=(N,), dtype=torch.float64)\n",
    "            dc = -(1 - pump[l] + torch.pow(c,2) + torch.pow(s,2))*c + JJ * (torch.abs(h_i) - eta) + g * torch.sqrt(torch.pow(c,2) + torch.pow(s,2) + 0.5) * w1\n",
    "            ds = -(1 + pump[l] + torch.pow(c,2) + torch.pow(s,2))*s + g * torch.sqrt(torch.pow(c,2) + torch.pow(s,2) + 0.5) * w2\n",
    "            c = c + dc * dt\n",
    "            s = s + ds * dt\n",
    "            sigCIM = ((torch.div(c, torch.abs(c))+1)/2) # Support estimation\n",
    "        \n",
    "        # Jacobi method for Signal optimisation\n",
    "        for rr in np.arange(0.0,RTmax/dt1,1.0):\n",
    "\n",
    "            hCDP = torch.matmul(J,(rCDP*sigCIM)) + hz\n",
    "            rCDP = rCDP + (-rCDP + hCDP)*dt1\n",
    "\n",
    "    # Evaluation by Root-Mean-Squared-Error (RMSE)\n",
    "    rmse = torch.sqrt(1/N * torch.sum(torch.pow(torch.sub((sigCIM * rCDP)/A_norm, signal * support),2)))\n",
    "    rmseArr.append(rmse.detach().cpu().numpy())\n",
    "    print(\"Problem = \"+ \"{:.0f}\".format(pp) +\" | \"+ \" RMSE = \"+ \"{:.4f}\".format(rmse))\n",
    "\n",
    "print(time.time() - stt, \"s\")\n",
    "print(\"==> N = \"+ str(N) + \", M = \"+ str(M) + \" | Problems = \"+ \"{:.0f}\".format(probs) +\" | \"+ \" average RMSE = \"+ \"{:.4f}\".format(sum(rmseArr)/probs))\n"
   ]
  },
  {
   "cell_type": "markdown",
   "id": "46fc939e",
   "metadata": {},
   "source": [
    "<h1> 3) OL-CCS on Sparse-MRI problem instances </h1>"
   ]
  },
  {
   "cell_type": "code",
   "execution_count": 3,
   "id": "ba0caeb5",
   "metadata": {},
   "outputs": [],
   "source": [
    "# Data import\n",
    "HerIMP = genfromtxt('Her6400456.csv', delimiter=',')\n",
    "x0initIMP = genfromtxt('x0_init_numpy6400456.csv', delimiter=',')\n",
    "hzIMP = genfromtxt('hz6400456.csv', delimiter=',')\n",
    "JJIMP = genfromtxt('JJ6400456.csv', delimiter=',')\n",
    "rIMP = genfromtxt('r6400456.csv', delimiter=',')\n",
    "tor_AD_invIMP = genfromtxt('AD_inv_6400456.csv', delimiter=',')    "
   ]
  },
  {
   "cell_type": "code",
   "execution_count": 4,
   "id": "440889ad",
   "metadata": {},
   "outputs": [
    {
     "name": "stdout",
     "output_type": "stream",
     "text": [
      "eta = 0.0110 |  OL = 0.0210 |  LASSO = 0.0349\n",
      "53.197179079055786 s\n"
     ]
    },
    {
     "data": {
      "text/plain": [
       "Text(0.5, 1.0, 'OL-CCS | RMSE = 0.0210')"
      ]
     },
     "execution_count": 4,
     "metadata": {},
     "output_type": "execute_result"
    },
    {
     "data": {
      "image/png": "[encoded data removed]",
      "text/plain": [
       "<Figure size 432x288 with 1 Axes>"
      ]
     },
     "metadata": {
      "needs_background": "light"
     },
     "output_type": "display_data"
    }
   ],
   "source": [
    "alpha = 0.4 # compression ratio\n",
    "px = 64 # 1D pixels\n",
    "N = px*px # 2D pixels (System size)\n",
    "M = np.intc(np.floor(alpha*N)) # compressed resulting pixels\n",
    "K = 1\n",
    "\n",
    "stt = time.time()\n",
    "        \n",
    "# HAAR wavelet basis matrix\n",
    "Her = torch.tensor(np.array((HerIMP)), dtype=torch.float64)\n",
    "\n",
    "# Initial Sparse MRI image vector\n",
    "x0init = torch.tensor(np.array((x0initIMP)), dtype=torch.float64)\n",
    "\n",
    "# Zeeman term\n",
    "hz = torch.tensor(np.array((hzIMP)), dtype=torch.float64) \n",
    "\n",
    "# Coupling matrix\n",
    "J = torch.reshape(torch.tensor(np.array((JJIMP)), dtype=torch.float64),[N,N]) \n",
    "\n",
    "# LASSO results\n",
    "r = torch.tensor(np.array((rIMP)), dtype=torch.float64)\n",
    "\n",
    "# Inverse of diagonal entries of the COupling matrix for normalisation in the CDP\n",
    "tor_AD_inv = torch.tensor(np.array((tor_AD_invIMP)), dtype=torch.float64)\n",
    "\n",
    "dt = 0.1 # Time-step for CIM\n",
    "Tmax = 5. # Max-time for CIM\n",
    "JJ = 0.25 # Injection strength\n",
    "REPs = 31 # Number of alternating minimisation processes\n",
    "dt1 = 0.1 # Time for CDP\n",
    "g = 1e-7 # Saturation parameter \n",
    "Pmax = 1.5 # Max Pump rate\n",
    "RTmax = 1000 # Max-Time iterations for CDP\n",
    "\n",
    "torch.manual_seed(0)\n",
    "\n",
    "# Caculating LASSO RMSE\n",
    "rmseLASSO = torch.sqrt((torch.subtract(x0init, torch.reshape(torch.matmul(torch.matmul(torch.transpose(Her,0,1),torch.reshape(r,(px, px))), Her),(-1,)))**2).mean(axis=0))\n",
    "\n",
    "timeStepArr = torch.arange(0, Tmax/0.1+1, 1)\n",
    "pump = torch.zeros(len(timeStepArr))\n",
    "p = torch.pow(timeStepArr * (0.1/Tmax),2)*Pmax # Pump rate schedulling\n",
    "\n",
    "sigCIM = torch.zeros(N, dtype=torch.float64)\n",
    "rCDP = torch.zeros(N, dtype=torch.float64)\n",
    "rCDP = r\n",
    "\n",
    "for ll in range(REPs):\n",
    "    eta = 0.0110 # L0-Regularisation parameter\n",
    "\n",
    "    sigCIM = torch.zeros(N, dtype=torch.float64)\n",
    "    c = torch.zeros(N, dtype=torch.float64)\n",
    "    s = torch.zeros(N, dtype=torch.float64)\n",
    "    dc = torch.zeros(N, dtype=torch.float64)\n",
    "    ds = torch.zeros(N, dtype=torch.float64)            \n",
    "\n",
    "    for l in range(len(timeStepArr)):\n",
    "\n",
    "        # Injection field\n",
    "        out = rCDP*sigCIM\n",
    "        Zeeman = hz\n",
    "        h_i = torch.matmul(J,out) + Zeeman\n",
    "\n",
    "        # OL-CCS SDEs \n",
    "        w1 = torch.normal(mean=0, std=1, size=(N,), dtype=torch.float64)\n",
    "        w2 = torch.normal(mean=0, std=1, size=(N,), dtype=torch.float64)\n",
    "        dc = -(1 - pump[l] + torch.pow(c,2) + torch.pow(s,2))*c + JJ * (torch.abs(h_i) - eta) + g * torch.sqrt(torch.pow(c,2) + torch.pow(s,2) + 0.5) * w1\n",
    "        ds = -(1 + pump[l] + torch.pow(c,2) + torch.pow(s,2))*s + g * torch.sqrt(torch.pow(c,2) + torch.pow(s,2) + 0.5) * w2\n",
    "        c = c + dc * dt\n",
    "        s = s + ds * dt\n",
    "        sigCIM = ((torch.div(c, torch.abs(c))+1)/2) # Support estimation\n",
    "\n",
    "    # Jacobi method for Signal optimisation\n",
    "    for rr in np.arange(0.0,RTmax,1.0):\n",
    "\n",
    "        hCDP = torch.matmul(J,(rCDP*sigCIM)) + hz\n",
    "        rCDP = rCDP + (-rCDP + tor_AD_inv*hCDP)*dt1\n",
    "\n",
    "# Evaluation by Root-Mean-Squared-Error (RMSE)\n",
    "rmseOLCCS = torch.sqrt((torch.subtract(x0init, torch.reshape(torch.matmul(torch.matmul(torch.transpose(Her,0,1),torch.reshape(torch.multiply(sigCIM,rCDP),(px, px))), Her),(-1,)))**2).mean(axis=0))\n",
    "print(\"eta = \"+ \"{:.4f}\".format(eta) +\" | \"+ \" OL = \"+ \"{:.4f}\".format(rmseOLCCS) +\" | \"+\" LASSO = \"+ \"{:.4f}\".format(rmseLASSO))   \n",
    "    \n",
    "print(time.time() - stt, \"s\")\n",
    "\n",
    "# Image reconstruction\n",
    "XX = torch.matmul(torch.matmul(torch.transpose(Her,0,1),torch.reshape(torch.multiply(sigCIM,rCDP),(px, px))), Her)\n",
    "plt.rcParams.update({'text.color' : \"black\",'axes.labelcolor' : \"black\"})\n",
    "plt.imshow(XX, cmap = plt.cm.gray) \n",
    "plt.title(\"OL-CCS | RMSE = \"+ \"{:.4f}\".format(rmseOLCCS), fontweight =\"bold\")"
   ]
  },
  {
   "cell_type": "code",
   "execution_count": null,
   "id": "9ae17206",
   "metadata": {},
   "outputs": [],
   "source": []
  }
 ],
 "metadata": {
  "kernelspec": {
   "display_name": "Python 3 (ipykernel)",
   "language": "python",
   "name": "python3"
  },
  "language_info": {
   "codemirror_mode": {
    "name": "ipython",
    "version": 3
   },
   "file_extension": ".py",
   "mimetype": "text/x-python",
   "name": "python",
   "nbconvert_exporter": "python",
   "pygments_lexer": "ipython3",
   "version": "3.10.13"
  }
 },
 "nbformat": 4,
 "nbformat_minor": 5
}
